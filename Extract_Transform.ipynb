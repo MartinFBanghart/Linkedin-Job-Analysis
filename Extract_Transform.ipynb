{
 "cells": [
  {
   "cell_type": "code",
   "execution_count": 1,
   "metadata": {},
   "outputs": [
    {
     "name": "stderr",
     "output_type": "stream",
     "text": [
      "INFO:li:scraper:('Using strategy AnonymousStrategy',)\n",
      "WARNING:li:scraper:(\"AnonymousStrategy is no longer maintained and it won't probably work. It is recommended to use an authenticated session, see documentation at https://github.com/spinlud/py-linkedin-jobs-scraper#anonymous-vs-authenticated-session.\",)\n"
     ]
    }
   ],
   "source": [
    "from linkedin_jobscraper import scrape_jobs\n",
    "from text_processor import load_and_clean_model"
   ]
  },
  {
   "attachments": {},
   "cell_type": "markdown",
   "metadata": {},
   "source": [
    "### Extract\n",
    "**scrape_jobs** function will take one string input which will be the job title for the query used in the Linkedin.com\n",
    "\n",
    "It will cycle through each state retrieving a maximum of 50 jobs per state (including D.C), if possible and concatenate into a csv file\n",
    "\n",
    "(ex. input : 'Aerospace Engineer', output 'aerospace_engineer.csv')"
   ]
  },
  {
   "cell_type": "code",
   "execution_count": 3,
   "metadata": {},
   "outputs": [],
   "source": [
    "query1 = 'data analyst'\n",
    "query2 = 'software engineer'\n",
    "query3 = 'software programmer'\n",
    "\n",
    "scrape_jobs(query1)\n",
    "scrape_jobs(query2)\n",
    "scrape_jobs(query3)"
   ]
  },
  {
   "attachments": {},
   "cell_type": "markdown",
   "metadata": {},
   "source": [
    "### Transform\n",
    "\n",
    "**load_and_clean_model** will take one input which will be the name of a query previously ran on scrape_jobs\n",
    "\n",
    "It will process the descriptions for each job posting using nlp packages as well as determine the relevant programming languages, databases, cloud/distributed computing platforms, and the top 5 bigrams mentioned in each description\n",
    "\n",
    "(ex. previous query = 'data analyst', input = 'data analyst', output = 'cleaned_data_analyst.csv')\n"
   ]
  },
  {
   "cell_type": "code",
   "execution_count": null,
   "metadata": {},
   "outputs": [],
   "source": [
    "load_and_clean_model(query1)\n",
    "load_and_clean_model(query2)\n",
    "load_and_clean_model(query2)"
   ]
  }
 ],
 "metadata": {
  "kernelspec": {
   "display_name": "base",
   "language": "python",
   "name": "python3"
  },
  "language_info": {
   "codemirror_mode": {
    "name": "ipython",
    "version": 3
   },
   "file_extension": ".py",
   "mimetype": "text/x-python",
   "name": "python",
   "nbconvert_exporter": "python",
   "pygments_lexer": "ipython3",
   "version": "3.9.13"
  },
  "orig_nbformat": 4
 },
 "nbformat": 4,
 "nbformat_minor": 2
}
